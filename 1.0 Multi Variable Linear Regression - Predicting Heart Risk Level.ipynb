{
 "cells": [
  {
   "cell_type": "code",
   "execution_count": 110,
   "metadata": {},
   "outputs": [
    {
     "name": "stdout",
     "output_type": "stream",
     "text": [
      "[[  1.  48. 236.  66.   0.   1.   0.]\n",
      " [  0.  48. 260.  51.   0.   1.   1.]\n",
      " [  0.  44. 187.  49.   1.   1.   0.]\n",
      " [  1.  42. 216.  57.   1.   1.   0.]\n",
      " [  1.  56. 156.  42.   0.   1.   0.]\n",
      " [  0.  44. 162.  57.   1.   1.   0.]\n",
      " [  0.  50. 244.  47.   0.   1.   0.]\n",
      " [  0.  48. 212.  30.   1.   1.   0.]\n",
      " [  1.  66. 202.  53.   0.   1.   1.]\n",
      " [  0.  63. 186.  46.   1.   1.   0.]]\n",
      "[[ 1.1]\n",
      " [ 7. ]\n",
      " [ 7. ]\n",
      " [ 0.4]\n",
      " [ 2.2]\n",
      " [ 3. ]\n",
      " [ 4.2]\n",
      " [17.4]\n",
      " [13.4]\n",
      " [17.3]]\n",
      "size of the dataset: 6644\n"
     ]
    }
   ],
   "source": [
    "import pandas as pd\n",
    "import numpy as np\n",
    "\n",
    "dataset=pd.read_csv('cardio_dataset.csv').values\n",
    "\n",
    "data=dataset[:,0:7]\n",
    "target=dataset[:,7]\n",
    "\n",
    "target=np.reshape(target, (-1,1))\n",
    "\n",
    "print(data[:10])\n",
    "print(target[:10])\n",
    "print('size of the dataset:',len(dataset))"
   ]
  },
  {
   "cell_type": "code",
   "execution_count": 111,
   "metadata": {},
   "outputs": [],
   "source": [
    "from sklearn.model_selection import train_test_split\n",
    "\n",
    "train_data,test_data,train_target,test_target=train_test_split(data,target,test_size=0.1)"
   ]
  },
  {
   "cell_type": "code",
   "execution_count": 112,
   "metadata": {},
   "outputs": [],
   "source": [
    "from sklearn.linear_model import LinearRegression\n",
    "\n",
    "model=LinearRegression()\n",
    "\n",
    "model.fit(train_data,train_target)\n",
    "predicted_target=model.predict(test_data)"
   ]
  },
  {
   "cell_type": "code",
   "execution_count": 113,
   "metadata": {},
   "outputs": [
    {
     "name": "stdout",
     "output_type": "stream",
     "text": [
      "r2 score: 0.7604436698660202\n"
     ]
    }
   ],
   "source": [
    "from sklearn.metrics import r2_score\n",
    "\n",
    "r2=r2_score(test_target,predicted_target)\n",
    "print(\"r2 score:\",r2)"
   ]
  },
  {
   "cell_type": "code",
   "execution_count": 114,
   "metadata": {},
   "outputs": [
    {
     "name": "stdout",
     "output_type": "stream",
     "text": [
      "Actual : [[ 9.5  6.1 23.2  0.2 12.7  2.4 12.  12.8 11.   2.6]]\n",
      "Predic : [[19.  6. 24. -6. 16.  4. 16. 18. 15.  7.]]\n"
     ]
    }
   ],
   "source": [
    "print('Actual :',test_target[:10].T)\n",
    "print('Predic :',np.round(predicted_target[:10].T))"
   ]
  },
  {
   "cell_type": "code",
   "execution_count": 115,
   "metadata": {},
   "outputs": [
    {
     "data": {
      "text/plain": [
       "['heart_risk_prediction_regression_model.sav']"
      ]
     },
     "execution_count": 115,
     "metadata": {},
     "output_type": "execute_result"
    }
   ],
   "source": [
    "import joblib\n",
    "\n",
    "joblib.dump(model,'heart_risk_prediction_regression_model.sav')"
   ]
  },
  {
   "cell_type": "code",
   "execution_count": null,
   "metadata": {},
   "outputs": [],
   "source": []
  }
 ],
 "metadata": {
  "kernelspec": {
   "display_name": "foml",
   "language": "python",
   "name": "python3"
  },
  "language_info": {
   "codemirror_mode": {
    "name": "ipython",
    "version": 3
   },
   "file_extension": ".py",
   "mimetype": "text/x-python",
   "name": "python",
   "nbconvert_exporter": "python",
   "pygments_lexer": "ipython3",
   "version": "3.11.13"
  }
 },
 "nbformat": 4,
 "nbformat_minor": 2
}
